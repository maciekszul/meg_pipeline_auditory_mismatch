{
 "cells": [
  {
   "cell_type": "code",
   "execution_count": 3,
   "metadata": {},
   "outputs": [
    {
     "name": "stdout",
     "output_type": "stream",
     "text": [
      "Using matplotlib backend: Qt5Agg\n"
     ]
    }
   ],
   "source": [
    "import mne\n",
    "import os.path as op\n",
    "from scipy.stats import *\n",
    "%matplotlib"
   ]
  },
  {
   "cell_type": "code",
   "execution_count": 4,
   "metadata": {},
   "outputs": [],
   "source": [
    "path = \"/cubric/scratch/c1557187/aud_mis/\"\n",
    "subj = \"0009\""
   ]
  },
  {
   "cell_type": "code",
   "execution_count": 5,
   "metadata": {},
   "outputs": [],
   "source": [
    "epochs0 = mne.read_epochs(op.join(path, \"MEG\", subj, \"all-000-epo.fif\"))\n",
    "epochs1 = mne.read_epochs(op.join(path, \"MEG\", subj, \"all-001-epo.fif\"))\n",
    "inv0 = mne.minimum_norm.read_inverse_operator(op.join(path, \"MEG\", subj, \"inv-000-inv.fif\"))\n",
    "inv1 = mne.minimum_norm.read_inverse_operator(op.join(path, \"MEG\", subj, \"inv-001-inv.fif\"))"
   ]
  },
  {
   "cell_type": "code",
   "execution_count": 26,
   "metadata": {},
   "outputs": [
    {
     "data": {
      "text/plain": [
       "<EpochsFIF  |   622 events (all good), -0.2 - 0.5 sec, baseline [-0.2, 0], ~229.5 MB, data loaded,\n",
       " '1': 319\n",
       " '2': 61\n",
       " '3': 60\n",
       " '4': 30\n",
       " '5': 30\n",
       " '6': 30\n",
       " '7': 30\n",
       " '8': 31\n",
       " '9': 31>"
      ]
     },
     "execution_count": 26,
     "metadata": {},
     "output_type": "execute_result"
    }
   ],
   "source": [
    "epochs0[]"
   ]
  },
  {
   "cell_type": "code",
   "execution_count": 14,
   "metadata": {},
   "outputs": [],
   "source": [
    "info = epochs0[\"1\"].info\n",
    "epo_array1 = trim_mean(epochs0[\"1\"].get_data(), 0.1, axis=0)\n",
    "evo_1 = mne.EvokedArray(epo_array1, info, tmin=epochs0[\"1\"].times[0])"
   ]
  },
  {
   "cell_type": "code",
   "execution_count": 27,
   "metadata": {},
   "outputs": [],
   "source": [
    "evo_1 = evo_1.crop(-0.1, 0.5)\n",
    "evo_1.plot_topo();"
   ]
  },
  {
   "cell_type": "code",
   "execution_count": 20,
   "metadata": {},
   "outputs": [],
   "source": []
  },
  {
   "cell_type": "code",
   "execution_count": null,
   "metadata": {},
   "outputs": [],
   "source": []
  }
 ],
 "metadata": {
  "kernelspec": {
   "display_name": "Python 3",
   "language": "python",
   "name": "python3"
  },
  "language_info": {
   "codemirror_mode": {
    "name": "ipython",
    "version": 3
   },
   "file_extension": ".py",
   "mimetype": "text/x-python",
   "name": "python",
   "nbconvert_exporter": "python",
   "pygments_lexer": "ipython3",
   "version": "3.6.8"
  }
 },
 "nbformat": 4,
 "nbformat_minor": 2
}
